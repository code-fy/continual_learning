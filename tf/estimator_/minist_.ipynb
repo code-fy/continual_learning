{
 "cells": [
  {
   "cell_type": "code",
   "execution_count": 1,
   "id": "a2988b8c",
   "metadata": {
    "collapsed": true
   },
   "outputs": [
    {
     "name": "stderr",
     "output_type": "stream",
     "text": [
      "/Users/fytang/workSpace/miniconda3/envs/tf114/lib/python3.7/site-packages/tensorflow/python/framework/dtypes.py:516: FutureWarning: Passing (type, 1) or '1type' as a synonym of type is deprecated; in a future version of numpy, it will be understood as (type, (1,)) / '(1,)type'.\n",
      "  _np_qint8 = np.dtype([(\"qint8\", np.int8, 1)])\n",
      "/Users/fytang/workSpace/miniconda3/envs/tf114/lib/python3.7/site-packages/tensorflow/python/framework/dtypes.py:517: FutureWarning: Passing (type, 1) or '1type' as a synonym of type is deprecated; in a future version of numpy, it will be understood as (type, (1,)) / '(1,)type'.\n",
      "  _np_quint8 = np.dtype([(\"quint8\", np.uint8, 1)])\n",
      "/Users/fytang/workSpace/miniconda3/envs/tf114/lib/python3.7/site-packages/tensorflow/python/framework/dtypes.py:518: FutureWarning: Passing (type, 1) or '1type' as a synonym of type is deprecated; in a future version of numpy, it will be understood as (type, (1,)) / '(1,)type'.\n",
      "  _np_qint16 = np.dtype([(\"qint16\", np.int16, 1)])\n",
      "/Users/fytang/workSpace/miniconda3/envs/tf114/lib/python3.7/site-packages/tensorflow/python/framework/dtypes.py:519: FutureWarning: Passing (type, 1) or '1type' as a synonym of type is deprecated; in a future version of numpy, it will be understood as (type, (1,)) / '(1,)type'.\n",
      "  _np_quint16 = np.dtype([(\"quint16\", np.uint16, 1)])\n",
      "/Users/fytang/workSpace/miniconda3/envs/tf114/lib/python3.7/site-packages/tensorflow/python/framework/dtypes.py:520: FutureWarning: Passing (type, 1) or '1type' as a synonym of type is deprecated; in a future version of numpy, it will be understood as (type, (1,)) / '(1,)type'.\n",
      "  _np_qint32 = np.dtype([(\"qint32\", np.int32, 1)])\n",
      "/Users/fytang/workSpace/miniconda3/envs/tf114/lib/python3.7/site-packages/tensorflow/python/framework/dtypes.py:525: FutureWarning: Passing (type, 1) or '1type' as a synonym of type is deprecated; in a future version of numpy, it will be understood as (type, (1,)) / '(1,)type'.\n",
      "  np_resource = np.dtype([(\"resource\", np.ubyte, 1)])\n",
      "/Users/fytang/workSpace/miniconda3/envs/tf114/lib/python3.7/site-packages/tensorboard/compat/tensorflow_stub/dtypes.py:541: FutureWarning: Passing (type, 1) or '1type' as a synonym of type is deprecated; in a future version of numpy, it will be understood as (type, (1,)) / '(1,)type'.\n",
      "  _np_qint8 = np.dtype([(\"qint8\", np.int8, 1)])\n",
      "/Users/fytang/workSpace/miniconda3/envs/tf114/lib/python3.7/site-packages/tensorboard/compat/tensorflow_stub/dtypes.py:542: FutureWarning: Passing (type, 1) or '1type' as a synonym of type is deprecated; in a future version of numpy, it will be understood as (type, (1,)) / '(1,)type'.\n",
      "  _np_quint8 = np.dtype([(\"quint8\", np.uint8, 1)])\n",
      "/Users/fytang/workSpace/miniconda3/envs/tf114/lib/python3.7/site-packages/tensorboard/compat/tensorflow_stub/dtypes.py:543: FutureWarning: Passing (type, 1) or '1type' as a synonym of type is deprecated; in a future version of numpy, it will be understood as (type, (1,)) / '(1,)type'.\n",
      "  _np_qint16 = np.dtype([(\"qint16\", np.int16, 1)])\n",
      "/Users/fytang/workSpace/miniconda3/envs/tf114/lib/python3.7/site-packages/tensorboard/compat/tensorflow_stub/dtypes.py:544: FutureWarning: Passing (type, 1) or '1type' as a synonym of type is deprecated; in a future version of numpy, it will be understood as (type, (1,)) / '(1,)type'.\n",
      "  _np_quint16 = np.dtype([(\"quint16\", np.uint16, 1)])\n",
      "/Users/fytang/workSpace/miniconda3/envs/tf114/lib/python3.7/site-packages/tensorboard/compat/tensorflow_stub/dtypes.py:545: FutureWarning: Passing (type, 1) or '1type' as a synonym of type is deprecated; in a future version of numpy, it will be understood as (type, (1,)) / '(1,)type'.\n",
      "  _np_qint32 = np.dtype([(\"qint32\", np.int32, 1)])\n",
      "/Users/fytang/workSpace/miniconda3/envs/tf114/lib/python3.7/site-packages/tensorboard/compat/tensorflow_stub/dtypes.py:550: FutureWarning: Passing (type, 1) or '1type' as a synonym of type is deprecated; in a future version of numpy, it will be understood as (type, (1,)) / '(1,)type'.\n",
      "  np_resource = np.dtype([(\"resource\", np.ubyte, 1)])\n"
     ]
    }
   ],
   "source": [
    "import tensorflow as tf\n",
    "import numpy as np\n",
    "from tensorflow.examples.tutorials.mnist import input_data"
   ]
  },
  {
   "cell_type": "code",
   "execution_count": 2,
   "id": "117dcf75",
   "metadata": {},
   "outputs": [
    {
     "name": "stdout",
     "output_type": "stream",
     "text": [
      "WARNING:tensorflow:From <ipython-input-2-2483ac3f0dd9>:2: read_data_sets (from tensorflow.contrib.learn.python.learn.datasets.mnist) is deprecated and will be removed in a future version.\n",
      "Instructions for updating:\n",
      "Please use alternatives such as official/mnist/dataset.py from tensorflow/models.\n",
      "WARNING:tensorflow:From /Users/fytang/workSpace/miniconda3/envs/tf114/lib/python3.7/site-packages/tensorflow/contrib/learn/python/learn/datasets/mnist.py:260: maybe_download (from tensorflow.contrib.learn.python.learn.datasets.base) is deprecated and will be removed in a future version.\n",
      "Instructions for updating:\n",
      "Please write your own downloading logic.\n",
      "WARNING:tensorflow:From /Users/fytang/workSpace/miniconda3/envs/tf114/lib/python3.7/site-packages/tensorflow/contrib/learn/python/learn/datasets/mnist.py:262: extract_images (from tensorflow.contrib.learn.python.learn.datasets.mnist) is deprecated and will be removed in a future version.\n",
      "Instructions for updating:\n",
      "Please use tf.data to implement this functionality.\n",
      "Extracting ./MNIST_data/train-images-idx3-ubyte.gz\n",
      "WARNING:tensorflow:From /Users/fytang/workSpace/miniconda3/envs/tf114/lib/python3.7/site-packages/tensorflow/contrib/learn/python/learn/datasets/mnist.py:267: extract_labels (from tensorflow.contrib.learn.python.learn.datasets.mnist) is deprecated and will be removed in a future version.\n",
      "Instructions for updating:\n",
      "Please use tf.data to implement this functionality.\n",
      "Extracting ./MNIST_data/train-labels-idx1-ubyte.gz\n",
      "Extracting ./MNIST_data/t10k-images-idx3-ubyte.gz\n",
      "Extracting ./MNIST_data/t10k-labels-idx1-ubyte.gz\n",
      "WARNING:tensorflow:From /Users/fytang/workSpace/miniconda3/envs/tf114/lib/python3.7/site-packages/tensorflow/contrib/learn/python/learn/datasets/mnist.py:290: DataSet.__init__ (from tensorflow.contrib.learn.python.learn.datasets.mnist) is deprecated and will be removed in a future version.\n",
      "Instructions for updating:\n",
      "Please use alternatives such as official/mnist/dataset.py from tensorflow/models.\n"
     ]
    }
   ],
   "source": [
    "tf.logging.set_verbosity(tf.logging.INFO)\n",
    "mnist = input_data.read_data_sets(\"./MNIST_data\",one_hot=False)"
   ]
  },
  {
   "cell_type": "code",
   "execution_count": 3,
   "id": "2599e0c3",
   "metadata": {},
   "outputs": [],
   "source": [
    "feature_columns = [tf.feature_column.numeric_column(\"image\",shape=[784])]"
   ]
  },
  {
   "cell_type": "code",
   "execution_count": 4,
   "id": "7cb77485",
   "metadata": {
    "collapsed": true
   },
   "outputs": [
    {
     "name": "stdout",
     "output_type": "stream",
     "text": [
      "INFO:tensorflow:Using default config.\n",
      "WARNING:tensorflow:Using temporary folder as model directory: /var/folders/k3/2l5gz13n7gvggyfq3q9gj82h0000gn/T/tmpr7zinklc\n",
      "INFO:tensorflow:Using config: {'_model_dir': '/var/folders/k3/2l5gz13n7gvggyfq3q9gj82h0000gn/T/tmpr7zinklc', '_tf_random_seed': None, '_save_summary_steps': 100, '_save_checkpoints_steps': None, '_save_checkpoints_secs': 600, '_session_config': allow_soft_placement: true\n",
      "graph_options {\n",
      "  rewrite_options {\n",
      "    meta_optimizer_iterations: ONE\n",
      "  }\n",
      "}\n",
      ", '_keep_checkpoint_max': 5, '_keep_checkpoint_every_n_hours': 10000, '_log_step_count_steps': 100, '_train_distribute': None, '_device_fn': None, '_protocol': None, '_eval_distribute': None, '_experimental_distribute': None, '_experimental_max_worker_delay_secs': None, '_service': None, '_cluster_spec': <tensorflow.python.training.server_lib.ClusterSpec object at 0x7fe81b52e550>, '_task_type': 'worker', '_task_id': 0, '_global_id_in_cluster': 0, '_master': '', '_evaluation_master': '', '_is_chief': True, '_num_ps_replicas': 0, '_num_worker_replicas': 1}\n"
     ]
    }
   ],
   "source": [
    "# estimator = tf.estimator.BaselineClassifier (linear_optimizer=\"Ftrl\",\n",
    "#                                                              linear_feature_columns=feature_columns,\n",
    "#                                                              dnn_feature_columns=feature_columns,\n",
    "#                                                              dnn_hidden_units=[512,\n",
    "#                                                                                256,\n",
    "#                                                                                128],\n",
    "#                                                              )"
   ]
  },
  {
   "cell_type": "code",
   "execution_count": 8,
   "id": "3d9d31d7",
   "metadata": {},
   "outputs": [
    {
     "name": "stdout",
     "output_type": "stream",
     "text": [
      "INFO:tensorflow:Using default config.\n",
      "INFO:tensorflow:Using config: {'_model_dir': './log', '_tf_random_seed': None, '_save_summary_steps': 100, '_save_checkpoints_steps': None, '_save_checkpoints_secs': 600, '_session_config': allow_soft_placement: true\n",
      "graph_options {\n",
      "  rewrite_options {\n",
      "    meta_optimizer_iterations: ONE\n",
      "  }\n",
      "}\n",
      ", '_keep_checkpoint_max': 5, '_keep_checkpoint_every_n_hours': 10000, '_log_step_count_steps': 100, '_train_distribute': None, '_device_fn': None, '_protocol': None, '_eval_distribute': None, '_experimental_distribute': None, '_experimental_max_worker_delay_secs': None, '_service': None, '_cluster_spec': <tensorflow.python.training.server_lib.ClusterSpec object at 0x7fe7fff78668>, '_task_type': 'worker', '_task_id': 0, '_global_id_in_cluster': 0, '_master': '', '_evaluation_master': '', '_is_chief': True, '_num_ps_replicas': 0, '_num_worker_replicas': 1}\n"
     ]
    }
   ],
   "source": [
    "estimator = tf.estimator.DNNClassifier(feature_columns=feature_columns,\n",
    "                                       hidden_units=[500],\n",
    "                                       n_classes=10,\n",
    "                                       optimizer=tf.train.AdamOptimizer(),\n",
    "                                       model_dir = \"./log\"\n",
    "                                      )"
   ]
  },
  {
   "cell_type": "code",
   "execution_count": 9,
   "id": "01645383",
   "metadata": {},
   "outputs": [],
   "source": [
    "train_input_fn = tf.estimator.inputs.numpy_input_fn(\n",
    "    x = {\"image\":mnist.train.images},\n",
    "    y=mnist.train.labels.astype(np.int32),\n",
    "    num_epochs=None,\n",
    "    batch_size=128,\n",
    "    shuffle=True\n",
    ")"
   ]
  },
  {
   "cell_type": "code",
   "execution_count": 10,
   "id": "fe10690e",
   "metadata": {
    "collapsed": true
   },
   "outputs": [
    {
     "name": "stdout",
     "output_type": "stream",
     "text": [
      "INFO:tensorflow:Calling model_fn.\n",
      "WARNING:tensorflow:Entity <bound method _DNNModel.call of <tensorflow_estimator.python.estimator.canned.dnn._DNNModel object at 0x7fe7fff780b8>> could not be transformed and will be executed as-is. Please report this to the AutgoGraph team. When filing the bug, set the verbosity to 10 (on Linux, `export AUTOGRAPH_VERBOSITY=10`) and attach the full output. Cause: converting <bound method _DNNModel.call of <tensorflow_estimator.python.estimator.canned.dnn._DNNModel object at 0x7fe7fff780b8>>: AttributeError: module 'gast' has no attribute 'Index'\n",
      "WARNING: Entity <bound method _DNNModel.call of <tensorflow_estimator.python.estimator.canned.dnn._DNNModel object at 0x7fe7fff780b8>> could not be transformed and will be executed as-is. Please report this to the AutgoGraph team. When filing the bug, set the verbosity to 10 (on Linux, `export AUTOGRAPH_VERBOSITY=10`) and attach the full output. Cause: converting <bound method _DNNModel.call of <tensorflow_estimator.python.estimator.canned.dnn._DNNModel object at 0x7fe7fff780b8>>: AttributeError: module 'gast' has no attribute 'Index'\n",
      "WARNING:tensorflow:Entity <bound method DenseFeatures.call of <tensorflow.python.feature_column.feature_column_v2.DenseFeatures object at 0x7fe7ffe5e6d8>> could not be transformed and will be executed as-is. Please report this to the AutgoGraph team. When filing the bug, set the verbosity to 10 (on Linux, `export AUTOGRAPH_VERBOSITY=10`) and attach the full output. Cause: converting <bound method DenseFeatures.call of <tensorflow.python.feature_column.feature_column_v2.DenseFeatures object at 0x7fe7ffe5e6d8>>: AttributeError: module 'gast' has no attribute 'Index'\n",
      "WARNING: Entity <bound method DenseFeatures.call of <tensorflow.python.feature_column.feature_column_v2.DenseFeatures object at 0x7fe7ffe5e6d8>> could not be transformed and will be executed as-is. Please report this to the AutgoGraph team. When filing the bug, set the verbosity to 10 (on Linux, `export AUTOGRAPH_VERBOSITY=10`) and attach the full output. Cause: converting <bound method DenseFeatures.call of <tensorflow.python.feature_column.feature_column_v2.DenseFeatures object at 0x7fe7ffe5e6d8>>: AttributeError: module 'gast' has no attribute 'Index'\n",
      "WARNING:tensorflow:Entity <bound method Dense.call of <tensorflow.python.layers.core.Dense object at 0x7fe7ffe5ebe0>> could not be transformed and will be executed as-is. Please report this to the AutgoGraph team. When filing the bug, set the verbosity to 10 (on Linux, `export AUTOGRAPH_VERBOSITY=10`) and attach the full output. Cause: converting <bound method Dense.call of <tensorflow.python.layers.core.Dense object at 0x7fe7ffe5ebe0>>: AttributeError: module 'gast' has no attribute 'Index'\n",
      "WARNING: Entity <bound method Dense.call of <tensorflow.python.layers.core.Dense object at 0x7fe7ffe5ebe0>> could not be transformed and will be executed as-is. Please report this to the AutgoGraph team. When filing the bug, set the verbosity to 10 (on Linux, `export AUTOGRAPH_VERBOSITY=10`) and attach the full output. Cause: converting <bound method Dense.call of <tensorflow.python.layers.core.Dense object at 0x7fe7ffe5ebe0>>: AttributeError: module 'gast' has no attribute 'Index'\n",
      "WARNING:tensorflow:Entity <bound method Dense.call of <tensorflow.python.layers.core.Dense object at 0x7fe7ffe5edd8>> could not be transformed and will be executed as-is. Please report this to the AutgoGraph team. When filing the bug, set the verbosity to 10 (on Linux, `export AUTOGRAPH_VERBOSITY=10`) and attach the full output. Cause: converting <bound method Dense.call of <tensorflow.python.layers.core.Dense object at 0x7fe7ffe5edd8>>: AttributeError: module 'gast' has no attribute 'Index'\n",
      "WARNING: Entity <bound method Dense.call of <tensorflow.python.layers.core.Dense object at 0x7fe7ffe5edd8>> could not be transformed and will be executed as-is. Please report this to the AutgoGraph team. When filing the bug, set the verbosity to 10 (on Linux, `export AUTOGRAPH_VERBOSITY=10`) and attach the full output. Cause: converting <bound method Dense.call of <tensorflow.python.layers.core.Dense object at 0x7fe7ffe5edd8>>: AttributeError: module 'gast' has no attribute 'Index'\n",
      "INFO:tensorflow:Done calling model_fn.\n",
      "INFO:tensorflow:Create CheckpointSaverHook.\n",
      "INFO:tensorflow:Graph was finalized.\n",
      "WARNING:tensorflow:From /Users/fytang/workSpace/miniconda3/envs/tf114/lib/python3.7/site-packages/tensorflow/python/training/saver.py:1276: checkpoint_exists (from tensorflow.python.training.checkpoint_management) is deprecated and will be removed in a future version.\n",
      "Instructions for updating:\n",
      "Use standard file APIs to check for files with this prefix.\n",
      "INFO:tensorflow:Restoring parameters from ./log/model.ckpt-10000\n",
      "WARNING:tensorflow:From /Users/fytang/workSpace/miniconda3/envs/tf114/lib/python3.7/site-packages/tensorflow/python/training/saver.py:1066: get_checkpoint_mtimes (from tensorflow.python.training.checkpoint_management) is deprecated and will be removed in a future version.\n",
      "Instructions for updating:\n",
      "Use standard file utilities to get mtimes.\n",
      "INFO:tensorflow:Running local_init_op.\n",
      "INFO:tensorflow:Done running local_init_op.\n",
      "INFO:tensorflow:Saving checkpoints for 10000 into ./log/model.ckpt.\n",
      "INFO:tensorflow:loss = 0.082089156, step = 10001\n",
      "INFO:tensorflow:global_step/sec: 132.93\n",
      "INFO:tensorflow:loss = 0.1081663, step = 10101 (0.753 sec)\n",
      "INFO:tensorflow:global_step/sec: 144.94\n",
      "INFO:tensorflow:loss = 0.5261204, step = 10201 (0.690 sec)\n",
      "INFO:tensorflow:global_step/sec: 163.65\n",
      "INFO:tensorflow:loss = 0.05883217, step = 10301 (0.611 sec)\n",
      "INFO:tensorflow:global_step/sec: 163.498\n",
      "INFO:tensorflow:loss = 0.020908246, step = 10401 (0.612 sec)\n",
      "INFO:tensorflow:global_step/sec: 164.938\n",
      "INFO:tensorflow:loss = 0.060475975, step = 10501 (0.606 sec)\n",
      "INFO:tensorflow:global_step/sec: 164.581\n",
      "INFO:tensorflow:loss = 0.046837546, step = 10601 (0.608 sec)\n",
      "INFO:tensorflow:global_step/sec: 163.392\n",
      "INFO:tensorflow:loss = 0.05713105, step = 10701 (0.612 sec)\n",
      "INFO:tensorflow:global_step/sec: 162.88\n",
      "INFO:tensorflow:loss = 0.1351594, step = 10801 (0.614 sec)\n",
      "INFO:tensorflow:global_step/sec: 163.946\n",
      "INFO:tensorflow:loss = 0.035413697, step = 10901 (0.610 sec)\n",
      "INFO:tensorflow:global_step/sec: 163.762\n",
      "INFO:tensorflow:loss = 0.037871085, step = 11001 (0.611 sec)\n",
      "INFO:tensorflow:global_step/sec: 161.006\n",
      "INFO:tensorflow:loss = 0.14788717, step = 11101 (0.621 sec)\n",
      "INFO:tensorflow:global_step/sec: 158.845\n",
      "INFO:tensorflow:loss = 0.00643388, step = 11201 (0.630 sec)\n",
      "INFO:tensorflow:global_step/sec: 158.81\n",
      "INFO:tensorflow:loss = 0.005466377, step = 11301 (0.630 sec)\n",
      "INFO:tensorflow:global_step/sec: 155.409\n",
      "INFO:tensorflow:loss = 0.025028264, step = 11401 (0.644 sec)\n",
      "INFO:tensorflow:global_step/sec: 146.536\n",
      "INFO:tensorflow:loss = 0.017046783, step = 11501 (0.682 sec)\n",
      "INFO:tensorflow:global_step/sec: 143.176\n",
      "INFO:tensorflow:loss = 0.027938807, step = 11601 (0.699 sec)\n",
      "INFO:tensorflow:global_step/sec: 138.013\n",
      "INFO:tensorflow:loss = 0.018484501, step = 11701 (0.725 sec)\n",
      "INFO:tensorflow:global_step/sec: 137.921\n",
      "INFO:tensorflow:loss = 0.011272907, step = 11801 (0.725 sec)\n",
      "INFO:tensorflow:global_step/sec: 138.199\n",
      "INFO:tensorflow:loss = 0.018930629, step = 11901 (0.723 sec)\n",
      "INFO:tensorflow:global_step/sec: 139.015\n",
      "INFO:tensorflow:loss = 0.0020414884, step = 12001 (0.720 sec)\n",
      "INFO:tensorflow:global_step/sec: 138.677\n",
      "INFO:tensorflow:loss = 0.007612604, step = 12101 (0.720 sec)\n",
      "INFO:tensorflow:global_step/sec: 145.762\n",
      "INFO:tensorflow:loss = 0.003320998, step = 12201 (0.686 sec)\n",
      "INFO:tensorflow:global_step/sec: 147.901\n",
      "INFO:tensorflow:loss = 0.01409927, step = 12301 (0.676 sec)\n",
      "INFO:tensorflow:global_step/sec: 145.603\n",
      "INFO:tensorflow:loss = 0.020711213, step = 12401 (0.687 sec)\n",
      "INFO:tensorflow:global_step/sec: 146.933\n",
      "INFO:tensorflow:loss = 0.009817688, step = 12501 (0.681 sec)\n",
      "INFO:tensorflow:global_step/sec: 146.198\n",
      "INFO:tensorflow:loss = 0.0057905028, step = 12601 (0.684 sec)\n",
      "INFO:tensorflow:global_step/sec: 142.559\n",
      "INFO:tensorflow:loss = 0.026688807, step = 12701 (0.701 sec)\n",
      "INFO:tensorflow:global_step/sec: 145.795\n",
      "INFO:tensorflow:loss = 0.017930761, step = 12801 (0.686 sec)\n",
      "INFO:tensorflow:global_step/sec: 148.096\n"
     ]
    },
    {
     "name": "stdout",
     "output_type": "stream",
     "text": [
      "INFO:tensorflow:loss = 0.012494784, step = 12901 (0.675 sec)\n",
      "INFO:tensorflow:global_step/sec: 144.209\n",
      "INFO:tensorflow:loss = 0.0045295935, step = 13001 (0.693 sec)\n",
      "INFO:tensorflow:global_step/sec: 140.759\n",
      "INFO:tensorflow:loss = 0.0031052232, step = 13101 (0.710 sec)\n",
      "INFO:tensorflow:global_step/sec: 142.401\n",
      "INFO:tensorflow:loss = 0.012502931, step = 13201 (0.702 sec)\n",
      "INFO:tensorflow:global_step/sec: 143.617\n",
      "INFO:tensorflow:loss = 0.0065908423, step = 13301 (0.696 sec)\n",
      "INFO:tensorflow:global_step/sec: 143.738\n",
      "INFO:tensorflow:loss = 0.005923577, step = 13401 (0.696 sec)\n",
      "INFO:tensorflow:global_step/sec: 145.915\n",
      "INFO:tensorflow:loss = 0.0049028173, step = 13501 (0.685 sec)\n",
      "INFO:tensorflow:global_step/sec: 146.316\n",
      "INFO:tensorflow:loss = 0.0062466017, step = 13601 (0.683 sec)\n",
      "INFO:tensorflow:global_step/sec: 152.511\n",
      "INFO:tensorflow:loss = 0.0047858004, step = 13701 (0.656 sec)\n",
      "INFO:tensorflow:global_step/sec: 148.003\n",
      "INFO:tensorflow:loss = 0.01246665, step = 13801 (0.676 sec)\n",
      "INFO:tensorflow:global_step/sec: 152.124\n",
      "INFO:tensorflow:loss = 0.008053198, step = 13901 (0.657 sec)\n",
      "INFO:tensorflow:global_step/sec: 138.454\n",
      "INFO:tensorflow:loss = 0.01316968, step = 14001 (0.723 sec)\n",
      "INFO:tensorflow:global_step/sec: 112.026\n",
      "INFO:tensorflow:loss = 0.008754585, step = 14101 (0.892 sec)\n",
      "INFO:tensorflow:global_step/sec: 136.637\n",
      "INFO:tensorflow:loss = 0.0011939998, step = 14201 (0.732 sec)\n",
      "INFO:tensorflow:global_step/sec: 139.575\n",
      "INFO:tensorflow:loss = 0.0015102315, step = 14301 (0.716 sec)\n",
      "INFO:tensorflow:global_step/sec: 147.745\n",
      "INFO:tensorflow:loss = 0.007846503, step = 14401 (0.677 sec)\n",
      "INFO:tensorflow:global_step/sec: 150.81\n",
      "INFO:tensorflow:loss = 0.0067482037, step = 14501 (0.663 sec)\n",
      "INFO:tensorflow:global_step/sec: 145.936\n",
      "INFO:tensorflow:loss = 0.01068433, step = 14601 (0.685 sec)\n",
      "INFO:tensorflow:global_step/sec: 148.692\n",
      "INFO:tensorflow:loss = 0.0060321195, step = 14701 (0.672 sec)\n",
      "INFO:tensorflow:global_step/sec: 148.276\n",
      "INFO:tensorflow:loss = 0.0041920673, step = 14801 (0.675 sec)\n",
      "INFO:tensorflow:global_step/sec: 142.114\n",
      "INFO:tensorflow:loss = 0.0023168006, step = 14901 (0.703 sec)\n",
      "INFO:tensorflow:global_step/sec: 137.108\n",
      "INFO:tensorflow:loss = 0.010442685, step = 15001 (0.729 sec)\n",
      "INFO:tensorflow:global_step/sec: 140.817\n",
      "INFO:tensorflow:loss = 0.005893177, step = 15101 (0.710 sec)\n",
      "INFO:tensorflow:global_step/sec: 138.565\n",
      "INFO:tensorflow:loss = 0.0037494367, step = 15201 (0.722 sec)\n",
      "INFO:tensorflow:global_step/sec: 138.986\n",
      "INFO:tensorflow:loss = 0.0011370111, step = 15301 (0.720 sec)\n",
      "INFO:tensorflow:global_step/sec: 135.683\n",
      "INFO:tensorflow:loss = 0.007859283, step = 15401 (0.737 sec)\n",
      "INFO:tensorflow:global_step/sec: 130.935\n",
      "INFO:tensorflow:loss = 0.0066019846, step = 15501 (0.764 sec)\n",
      "INFO:tensorflow:global_step/sec: 137.663\n",
      "INFO:tensorflow:loss = 0.0021921901, step = 15601 (0.726 sec)\n",
      "INFO:tensorflow:global_step/sec: 137.074\n",
      "INFO:tensorflow:loss = 0.0034657144, step = 15701 (0.729 sec)\n",
      "INFO:tensorflow:global_step/sec: 144.722\n",
      "INFO:tensorflow:loss = 0.0047090035, step = 15801 (0.691 sec)\n",
      "INFO:tensorflow:global_step/sec: 141.435\n",
      "INFO:tensorflow:loss = 0.0013886323, step = 15901 (0.707 sec)\n",
      "INFO:tensorflow:global_step/sec: 141.825\n",
      "INFO:tensorflow:loss = 0.0046599377, step = 16001 (0.705 sec)\n",
      "INFO:tensorflow:global_step/sec: 145.537\n",
      "INFO:tensorflow:loss = 0.0006266354, step = 16101 (0.687 sec)\n",
      "INFO:tensorflow:global_step/sec: 152.11\n",
      "INFO:tensorflow:loss = 0.0020850012, step = 16201 (0.657 sec)\n",
      "INFO:tensorflow:global_step/sec: 143.466\n",
      "INFO:tensorflow:loss = 0.0014945244, step = 16301 (0.697 sec)\n",
      "INFO:tensorflow:global_step/sec: 141.886\n",
      "INFO:tensorflow:loss = 0.0045804763, step = 16401 (0.705 sec)\n",
      "INFO:tensorflow:global_step/sec: 142.923\n",
      "INFO:tensorflow:loss = 0.002485532, step = 16501 (0.700 sec)\n",
      "INFO:tensorflow:global_step/sec: 145.09\n",
      "INFO:tensorflow:loss = 0.0042057657, step = 16601 (0.689 sec)\n",
      "INFO:tensorflow:global_step/sec: 142.078\n",
      "INFO:tensorflow:loss = 7.6518946, step = 16701 (0.704 sec)\n",
      "INFO:tensorflow:global_step/sec: 141.223\n",
      "INFO:tensorflow:loss = 0.056994583, step = 16801 (0.708 sec)\n",
      "INFO:tensorflow:global_step/sec: 140.418\n",
      "INFO:tensorflow:loss = 0.30628234, step = 16901 (0.712 sec)\n",
      "INFO:tensorflow:global_step/sec: 138.732\n",
      "INFO:tensorflow:loss = 1.6291285, step = 17001 (0.721 sec)\n",
      "INFO:tensorflow:global_step/sec: 134.245\n",
      "INFO:tensorflow:loss = 0.026573675, step = 17101 (0.744 sec)\n",
      "INFO:tensorflow:global_step/sec: 136.095\n",
      "INFO:tensorflow:loss = 0.16946697, step = 17201 (0.735 sec)\n",
      "INFO:tensorflow:global_step/sec: 136.763\n",
      "INFO:tensorflow:loss = 0.008663505, step = 17301 (0.731 sec)\n",
      "INFO:tensorflow:global_step/sec: 137.606\n",
      "INFO:tensorflow:loss = 0.004682497, step = 17401 (0.727 sec)\n",
      "INFO:tensorflow:global_step/sec: 143.53\n",
      "INFO:tensorflow:loss = 0.03583925, step = 17501 (0.697 sec)\n",
      "INFO:tensorflow:global_step/sec: 146.061\n",
      "INFO:tensorflow:loss = 0.03662713, step = 17601 (0.685 sec)\n",
      "INFO:tensorflow:global_step/sec: 149.94\n",
      "INFO:tensorflow:loss = 0.073041975, step = 17701 (0.667 sec)\n",
      "INFO:tensorflow:global_step/sec: 149.716\n",
      "INFO:tensorflow:loss = 0.026586069, step = 17801 (0.668 sec)\n",
      "INFO:tensorflow:global_step/sec: 149.98\n",
      "INFO:tensorflow:loss = 0.39220712, step = 17901 (0.667 sec)\n",
      "INFO:tensorflow:global_step/sec: 149.398\n",
      "INFO:tensorflow:loss = 0.0066971728, step = 18001 (0.669 sec)\n",
      "INFO:tensorflow:global_step/sec: 148.029\n",
      "INFO:tensorflow:loss = 0.0063649113, step = 18101 (0.676 sec)\n",
      "INFO:tensorflow:global_step/sec: 142.706\n",
      "INFO:tensorflow:loss = 0.019783955, step = 18201 (0.701 sec)\n",
      "INFO:tensorflow:global_step/sec: 144.071\n",
      "INFO:tensorflow:loss = 0.0055046435, step = 18301 (0.694 sec)\n",
      "INFO:tensorflow:global_step/sec: 143.777\n",
      "INFO:tensorflow:loss = 0.0101485215, step = 18401 (0.696 sec)\n",
      "INFO:tensorflow:global_step/sec: 143.495\n",
      "INFO:tensorflow:loss = 0.009795107, step = 18501 (0.697 sec)\n",
      "INFO:tensorflow:global_step/sec: 143.792\n",
      "INFO:tensorflow:loss = 0.009389516, step = 18601 (0.695 sec)\n",
      "INFO:tensorflow:global_step/sec: 143.116\n",
      "INFO:tensorflow:loss = 0.067844845, step = 18701 (0.699 sec)\n",
      "INFO:tensorflow:global_step/sec: 148.389\n",
      "INFO:tensorflow:loss = 0.042090207, step = 18801 (0.674 sec)\n",
      "INFO:tensorflow:global_step/sec: 142.979\n",
      "INFO:tensorflow:loss = 0.0146729015, step = 18901 (0.700 sec)\n",
      "INFO:tensorflow:global_step/sec: 134.795\n",
      "INFO:tensorflow:loss = 0.0035997047, step = 19001 (0.742 sec)\n",
      "INFO:tensorflow:global_step/sec: 146.094\n",
      "INFO:tensorflow:loss = 0.010803949, step = 19101 (0.685 sec)\n",
      "INFO:tensorflow:global_step/sec: 147.291\n",
      "INFO:tensorflow:loss = 0.016992364, step = 19201 (0.679 sec)\n",
      "INFO:tensorflow:global_step/sec: 146.78\n",
      "INFO:tensorflow:loss = 0.004321383, step = 19301 (0.681 sec)\n",
      "INFO:tensorflow:global_step/sec: 147.146\n",
      "INFO:tensorflow:loss = 0.015375635, step = 19401 (0.680 sec)\n",
      "INFO:tensorflow:global_step/sec: 143.746\n",
      "INFO:tensorflow:loss = 0.012643322, step = 19501 (0.696 sec)\n",
      "INFO:tensorflow:global_step/sec: 143.521\n",
      "INFO:tensorflow:loss = 0.017286168, step = 19601 (0.697 sec)\n",
      "INFO:tensorflow:global_step/sec: 143.604\n",
      "INFO:tensorflow:loss = 0.008032011, step = 19701 (0.696 sec)\n",
      "INFO:tensorflow:global_step/sec: 143.317\n",
      "INFO:tensorflow:loss = 0.012798926, step = 19801 (0.698 sec)\n",
      "INFO:tensorflow:global_step/sec: 143.782\n",
      "INFO:tensorflow:loss = 0.002042504, step = 19901 (0.696 sec)\n",
      "INFO:tensorflow:Saving checkpoints for 20000 into ./log/model.ckpt.\n",
      "INFO:tensorflow:Loss for final step: 0.0037171096.\n"
     ]
    },
    {
     "data": {
      "text/plain": [
       "<tensorflow_estimator.python.estimator.canned.dnn.DNNClassifier at 0x7fe7fff78b00>"
      ]
     },
     "execution_count": 10,
     "metadata": {},
     "output_type": "execute_result"
    }
   ],
   "source": [
    "estimator.train(input_fn=train_input_fn,steps=10000)"
   ]
  },
  {
   "cell_type": "code",
   "execution_count": 11,
   "id": "31cd5783",
   "metadata": {},
   "outputs": [],
   "source": [
    "test_input_fn = tf.estimator.inputs.numpy_input_fn(\n",
    "    x = {\"image\":mnist.test.images},\n",
    "    y=mnist.test.labels.astype(np.int32),\n",
    "    num_epochs=1,\n",
    "    batch_size=128,\n",
    "    shuffle=False\n",
    ")"
   ]
  },
  {
   "cell_type": "code",
   "execution_count": 13,
   "id": "ad6323b3",
   "metadata": {
    "collapsed": true
   },
   "outputs": [
    {
     "name": "stdout",
     "output_type": "stream",
     "text": [
      "INFO:tensorflow:Calling model_fn.\n",
      "WARNING:tensorflow:Entity <bound method _DNNModel.call of <tensorflow_estimator.python.estimator.canned.dnn._DNNModel object at 0x7fe8023ba588>> could not be transformed and will be executed as-is. Please report this to the AutgoGraph team. When filing the bug, set the verbosity to 10 (on Linux, `export AUTOGRAPH_VERBOSITY=10`) and attach the full output. Cause: converting <bound method _DNNModel.call of <tensorflow_estimator.python.estimator.canned.dnn._DNNModel object at 0x7fe8023ba588>>: AttributeError: module 'gast' has no attribute 'Index'\n",
      "WARNING: Entity <bound method _DNNModel.call of <tensorflow_estimator.python.estimator.canned.dnn._DNNModel object at 0x7fe8023ba588>> could not be transformed and will be executed as-is. Please report this to the AutgoGraph team. When filing the bug, set the verbosity to 10 (on Linux, `export AUTOGRAPH_VERBOSITY=10`) and attach the full output. Cause: converting <bound method _DNNModel.call of <tensorflow_estimator.python.estimator.canned.dnn._DNNModel object at 0x7fe8023ba588>>: AttributeError: module 'gast' has no attribute 'Index'\n",
      "WARNING:tensorflow:Entity <bound method DenseFeatures.call of <tensorflow.python.feature_column.feature_column_v2.DenseFeatures object at 0x7fe801edc550>> could not be transformed and will be executed as-is. Please report this to the AutgoGraph team. When filing the bug, set the verbosity to 10 (on Linux, `export AUTOGRAPH_VERBOSITY=10`) and attach the full output. Cause: converting <bound method DenseFeatures.call of <tensorflow.python.feature_column.feature_column_v2.DenseFeatures object at 0x7fe801edc550>>: AttributeError: module 'gast' has no attribute 'Index'\n",
      "WARNING: Entity <bound method DenseFeatures.call of <tensorflow.python.feature_column.feature_column_v2.DenseFeatures object at 0x7fe801edc550>> could not be transformed and will be executed as-is. Please report this to the AutgoGraph team. When filing the bug, set the verbosity to 10 (on Linux, `export AUTOGRAPH_VERBOSITY=10`) and attach the full output. Cause: converting <bound method DenseFeatures.call of <tensorflow.python.feature_column.feature_column_v2.DenseFeatures object at 0x7fe801edc550>>: AttributeError: module 'gast' has no attribute 'Index'\n",
      "WARNING:tensorflow:Entity <bound method Dense.call of <tensorflow.python.layers.core.Dense object at 0x7fe801edcb70>> could not be transformed and will be executed as-is. Please report this to the AutgoGraph team. When filing the bug, set the verbosity to 10 (on Linux, `export AUTOGRAPH_VERBOSITY=10`) and attach the full output. Cause: converting <bound method Dense.call of <tensorflow.python.layers.core.Dense object at 0x7fe801edcb70>>: AttributeError: module 'gast' has no attribute 'Index'\n",
      "WARNING: Entity <bound method Dense.call of <tensorflow.python.layers.core.Dense object at 0x7fe801edcb70>> could not be transformed and will be executed as-is. Please report this to the AutgoGraph team. When filing the bug, set the verbosity to 10 (on Linux, `export AUTOGRAPH_VERBOSITY=10`) and attach the full output. Cause: converting <bound method Dense.call of <tensorflow.python.layers.core.Dense object at 0x7fe801edcb70>>: AttributeError: module 'gast' has no attribute 'Index'\n",
      "WARNING:tensorflow:Entity <bound method Dense.call of <tensorflow.python.layers.core.Dense object at 0x7fe801edce48>> could not be transformed and will be executed as-is. Please report this to the AutgoGraph team. When filing the bug, set the verbosity to 10 (on Linux, `export AUTOGRAPH_VERBOSITY=10`) and attach the full output. Cause: converting <bound method Dense.call of <tensorflow.python.layers.core.Dense object at 0x7fe801edce48>>: AttributeError: module 'gast' has no attribute 'Index'\n",
      "WARNING: Entity <bound method Dense.call of <tensorflow.python.layers.core.Dense object at 0x7fe801edce48>> could not be transformed and will be executed as-is. Please report this to the AutgoGraph team. When filing the bug, set the verbosity to 10 (on Linux, `export AUTOGRAPH_VERBOSITY=10`) and attach the full output. Cause: converting <bound method Dense.call of <tensorflow.python.layers.core.Dense object at 0x7fe801edce48>>: AttributeError: module 'gast' has no attribute 'Index'\n",
      "INFO:tensorflow:Done calling model_fn.\n",
      "INFO:tensorflow:Starting evaluation at 2022-06-17T00:52:21Z\n",
      "INFO:tensorflow:Graph was finalized.\n",
      "INFO:tensorflow:Restoring parameters from ./log/model.ckpt-20000\n",
      "INFO:tensorflow:Running local_init_op.\n",
      "INFO:tensorflow:Done running local_init_op.\n",
      "INFO:tensorflow:Finished evaluation at 2022-06-17-00:52:22\n",
      "INFO:tensorflow:Saving dict for global step 20000: accuracy = 0.9821, average_loss = 0.0924796, global_step = 20000, loss = 11.706279\n",
      "INFO:tensorflow:Saving 'checkpoint_path' summary for global step 20000: ./log/model.ckpt-20000\n",
      "\n",
      "Test acc 98.21 %\n"
     ]
    }
   ],
   "source": [
    "acc_score = estimator.evaluate(input_fn=test_input_fn)[\"accuracy\"]\n",
    "print(\"\\nTest acc %g %%\" % (acc_score*100))"
   ]
  },
  {
   "cell_type": "code",
   "execution_count": null,
   "id": "c79c6723",
   "metadata": {},
   "outputs": [],
   "source": []
  }
 ],
 "metadata": {
  "kernelspec": {
   "display_name": "Python 3",
   "language": "python",
   "name": "python3"
  },
  "language_info": {
   "codemirror_mode": {
    "name": "ipython",
    "version": 3
   },
   "file_extension": ".py",
   "mimetype": "text/x-python",
   "name": "python",
   "nbconvert_exporter": "python",
   "pygments_lexer": "ipython3",
   "version": "3.7.0"
  }
 },
 "nbformat": 4,
 "nbformat_minor": 5
}
